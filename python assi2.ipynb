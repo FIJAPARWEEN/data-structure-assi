{
 "cells": [
  {
   "cell_type": "code",
   "execution_count": 1,
   "id": "592e30c8-6935-4a2a-b070-d9648aecda86",
   "metadata": {},
   "outputs": [],
   "source": [
    "##Q1. How do you comment code in Python? What are the different types of comments?\n",
    "\n",
    "'''ans:-In Python, you can add comments to your code to provide explanations, document your code,\n",
    "        or temporarily disable certain parts of the code. Python supports two types of comments:\n",
    "         1):-Single-line comments   2):-Multi-line comments'''"
   ]
  },
  {
   "cell_type": "code",
   "execution_count": null,
   "id": "25b6be4d-e7a2-4a1c-9b36-576630b01c24",
   "metadata": {},
   "outputs": [],
   "source": [
    "##Q2. What are variables in Python? How do you declare and assign values to variables?\n",
    "\n",
    "'''ans:-In Python, a variable is a symbolic name that represents a value stored in memory.\n",
    "        Variables allow you to store and manipulate data in your programs\n",
    "        In Python, you don't need to explicitly declare the data type of a variable.\n",
    "        The data type is determined dynamically \n",
    "        based on the value assigned to the variable.\n",
    "        You can assign values to variables using the assignment operator (=).\n",
    "        The data type of the variable is determined by the type of value you assign to it."
   ]
  },
  {
   "cell_type": "code",
   "execution_count": null,
   "id": "c06a6286-6a92-43a2-9c7e-ff0eff85d892",
   "metadata": {},
   "outputs": [],
   "source": [
    "##Q3. How do you convert one data type to another in Python?\n",
    "\n",
    "'''ans:-In Python, you can convert one data type to another using type casting or type conversion functions."
   ]
  },
  {
   "cell_type": "code",
   "execution_count": null,
   "id": "28617a5b-6484-457e-90ad-37903d75fa5a",
   "metadata": {},
   "outputs": [],
   "source": [
    "##Q4. How do you write and execute a Python script from the command line?\n",
    "\n",
    "'''ans:-To write and execute a Python script from the command line, follow these steps:\n",
    "   \n",
    "    1.Open a Text Editor\n",
    "    2.Write a Python Script\n",
    "    3.Open a Command Prompt or Terminal\n",
    "    4.Execute the Python Script\n"
   ]
  },
  {
   "cell_type": "code",
   "execution_count": null,
   "id": "ae21745e-3778-4ea2-a0e0-ed17434f8ce0",
   "metadata": {},
   "outputs": [],
   "source": [
    "##Q5. Given a list my_list = [1, 2, 3, 4, 5], write the code to slice the list and obtain the sub-list [2, 3].\n",
    "\n",
    "my_list = [1, 2, 3, 4, 5]\n",
    "sub_list = my_list[1:3]\n"
   ]
  },
  {
   "cell_type": "code",
   "execution_count": null,
   "id": "b30d9422-fe5e-495c-ad43-568de4bd0a28",
   "metadata": {},
   "outputs": [],
   "source": [
    "##Q6. What is a complex number in mathematics, and how is it represented in Python?\n",
    "'''ans:-In mathematics, a complex number is a number that can be expressed in the form a + bi,\n",
    "where a and b are real numbers,\n",
    "         and i is the imaginary unit, which is defined as the square root of -1. The real part (a)\n",
    "         represents the real portion of the complex number, and the imaginary part\n",
    "         (b) represents the imaginary portion.\n",
    "         z1 = 3 + 2j\n",
    "         z2 = 1 - 4j\n",
    "         z3 = complex(5, -1)\n"
   ]
  },
  {
   "cell_type": "code",
   "execution_count": null,
   "id": "758a015c-b1c4-464b-bc13-fdb53df951e3",
   "metadata": {},
   "outputs": [],
   "source": [
    "##Q7. What is the correct way to declare a variable named age and assign the value 25 to it?\n",
    "'''ans:-The correct way to declare a variable named age and assign the value 25 to it in Python is as follows:\n",
    "   age = 25\n",
    "   age is the variable name.\n",
    "   = is the assignment operator.\n",
    "   25 is the value being assigned to the variable age."
   ]
  },
  {
   "cell_type": "code",
   "execution_count": null,
   "id": "dae37f1e-a0b7-4240-ad86-0c82917d369e",
   "metadata": {},
   "outputs": [],
   "source": [
    "##Q8. Declare a variable named price and assign the value 9.99 to it. What data type does this variable belong to?\n",
    "'''ans:-To declare a variable named price and assign the value 9.99 to it in Python, you would use the following code:\n",
    "   price = 9.99\n",
    "   price is the variable name.\n",
    "   = is the assignment operator.\n",
    "   9.99 is the value being assigned to the variable price."
   ]
  },
  {
   "cell_type": "code",
   "execution_count": null,
   "id": "05a16d8c-1828-43d4-8527-7b2bfd633da8",
   "metadata": {},
   "outputs": [],
   "source": [
    "##Q9. Create a variable named name and assign your full name to it as a string.\n",
    "##How would you print the value of this variable?\n",
    "'''ans:-To create a variable named name and assign your full name to it as a string in Python, you can use the \n",
    "following code:\n",
    "   name = \"fijaparween\"\n",
    "   name is the variable name.\n",
    "   = is the assignment operator.\n",
    "   \"John Doe\" is the string being assigned to the variable name."
   ]
  },
  {
   "cell_type": "code",
   "execution_count": null,
   "id": "675bb254-d695-4e66-a4a2-c5f795114d30",
   "metadata": {},
   "outputs": [],
   "source": [
    "##Q10. Given the string \"Hello, World!\", extract the substring \"World\".\n",
    "\n",
    "my_string = \"Hello, World!\"\n",
    "substring = my_string[7:12]\n"
   ]
  },
  {
   "cell_type": "code",
   "execution_count": null,
   "id": "71ba53c5-2652-4518-8015-41cf883fbc9e",
   "metadata": {},
   "outputs": [],
   "source": [
    "##Q11. Create a variable named \"is_student\" and assign it a boolean value indicating\n",
    "##whether you are currently a student or not."
   ]
  },
  {
   "cell_type": "code",
   "execution_count": null,
   "id": "b2f5bd6f-ee0d-42bd-af5e-9e49711a9b3e",
   "metadata": {},
   "outputs": [],
   "source": [
    "fija = true\n",
    "# If you are currently a student"
   ]
  },
  {
   "cell_type": "code",
   "execution_count": null,
   "id": "9b1363a4-26fb-43c9-bd80-cdc43209903f",
   "metadata": {},
   "outputs": [],
   "source": [
    "fija = false\n",
    "# If you are not currently a student"
   ]
  },
  {
   "cell_type": "code",
   "execution_count": null,
   "id": "02f0495f-df28-406d-a8a2-af84c3199238",
   "metadata": {},
   "outputs": [],
   "source": [
    "'''fija is the variable name.\n",
    "   = is the assignment operator.\n",
    "   True or False is the boolean value indicating whether you are currently a student or not.'''"
   ]
  }
 ],
 "metadata": {
  "kernelspec": {
   "display_name": "Python 3 (ipykernel)",
   "language": "python",
   "name": "python3"
  },
  "language_info": {
   "codemirror_mode": {
    "name": "ipython",
    "version": 3
   },
   "file_extension": ".py",
   "mimetype": "text/x-python",
   "name": "python",
   "nbconvert_exporter": "python",
   "pygments_lexer": "ipython3",
   "version": "3.10.8"
  }
 },
 "nbformat": 4,
 "nbformat_minor": 5
}
